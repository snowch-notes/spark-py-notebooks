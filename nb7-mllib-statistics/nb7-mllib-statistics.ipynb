{
 "cells": [
  {
   "cell_type": "markdown",
   "metadata": {},
   "source": [
    "# MLlib: Basic Statistics and Exploratory Data Analysis"
   ]
  },
  {
   "cell_type": "markdown",
   "metadata": {},
   "source": [
    "[Introduction to Spark with Python, by Jose A. Dianes](https://github.com/jadianes/spark-py-notebooks)"
   ]
  },
  {
   "cell_type": "markdown",
   "metadata": {},
   "source": [
    "So far we have used different map and aggregation functions, on simple and key/value pair RDD's, in order to get simple statistics that help us understand our datasets. In this notebook we will introduce Spark's machine learning library [MLlib](https://spark.apache.org/docs/latest/mllib-guide.html) through its basic statistics functionality in order to better understand our dataset. We will use the reduced 10-percent [KDD Cup 1999](http://kdd.ics.uci.edu/databases/kddcup99/kddcup99.html) datasets through the notebook.   "
   ]
  },
  {
   "cell_type": "markdown",
   "metadata": {},
   "source": [
    "## Getting the data and creating the RDD"
   ]
  },
  {
   "cell_type": "markdown",
   "metadata": {},
   "source": [
    "As we did in our first notebook, we will use the reduced dataset (10 percent) provided for the [KDD Cup 1999](http://kdd.ics.uci.edu/databases/kddcup99/kddcup99.html), containing nearly half million network interactions. The file is provided as a Gzip file that we will download locally.  "
   ]
  },
  {
   "cell_type": "code",
   "execution_count": 1,
   "metadata": {},
   "outputs": [
    {
     "name": "stdout",
     "output_type": "stream",
     "text": [
      "Starting Spark application\n"
     ]
    },
    {
     "data": {
      "text/html": [
       "<table>\n",
       "<tr><th>ID</th><th>YARN Application ID</th><th>Kind</th><th>State</th><th>Spark UI</th><th>Driver log</th><th>Current session?</th></tr><tr><td>9</td><td>None</td><td>pyspark</td><td>idle</td><td></td><td></td><td>✔</td></tr></table>"
      ],
      "text/plain": [
       "<IPython.core.display.HTML object>"
      ]
     },
     "metadata": {},
     "output_type": "display_data"
    },
    {
     "data": {
      "application/vnd.jupyter.widget-view+json": {
       "model_id": "",
       "version_major": 2,
       "version_minor": 0
      },
      "text/plain": [
       "FloatProgress(value=0.0, bar_style='info', description='Progress:', layout=Layout(height='25px', width='50%'),…"
      ]
     },
     "metadata": {},
     "output_type": "display_data"
    },
    {
     "name": "stdout",
     "output_type": "stream",
     "text": [
      "SparkSession available as 'spark'.\n"
     ]
    },
    {
     "data": {
      "application/vnd.jupyter.widget-view+json": {
       "model_id": "",
       "version_major": 2,
       "version_minor": 0
      },
      "text/plain": [
       "FloatProgress(value=0.0, bar_style='info', description='Progress:', layout=Layout(height='25px', width='50%'),…"
      ]
     },
     "metadata": {},
     "output_type": "display_data"
    }
   ],
   "source": [
    "import os.path\n",
    "from urllib import request\n",
    "\n",
    "if not os.path.isfile(\"/bd-fs-mnt/TenantShare/kddcup.data_10_percent.gz\"):\n",
    "    f = request.urlretrieve (\n",
    "        \"http://kdd.ics.uci.edu/databases/kddcup99/kddcup.data_10_percent.gz\", \n",
    "        \"/bd-fs-mnt/TenantShare/kddcup.data_10_percent.gz\")"
   ]
  },
  {
   "cell_type": "code",
   "execution_count": 2,
   "metadata": {},
   "outputs": [
    {
     "data": {
      "application/vnd.jupyter.widget-view+json": {
       "model_id": "",
       "version_major": 2,
       "version_minor": 0
      },
      "text/plain": [
       "FloatProgress(value=0.0, bar_style='info', description='Progress:', layout=Layout(height='25px', width='50%'),…"
      ]
     },
     "metadata": {},
     "output_type": "display_data"
    }
   ],
   "source": [
    "data_file = \"/bd-fs-mnt/TenantShare/kddcup.data_10_percent.gz\"\n",
    "raw_data = sc.textFile(data_file)"
   ]
  },
  {
   "cell_type": "markdown",
   "metadata": {},
   "source": [
    "## Local vectors"
   ]
  },
  {
   "cell_type": "markdown",
   "metadata": {},
   "source": [
    "A [local vector](https://spark.apache.org/docs/latest/mllib-data-types.html#local-vector) is often used as a base type for RDDs in Spark MLlib. A local vector has integer-typed and 0-based indices and double-typed values, stored on a single machine. MLlib supports two types of local vectors: dense and sparse. A dense vector is backed by a double array representing its entry values, while a sparse vector is backed by two parallel arrays: indices and values. "
   ]
  },
  {
   "cell_type": "markdown",
   "metadata": {},
   "source": [
    "For dense vectors, MLlib uses either Python *lists* or the *NumPy* `array` type. The later is recommended, so you can simply pass NumPy arrays around.  "
   ]
  },
  {
   "cell_type": "markdown",
   "metadata": {},
   "source": [
    "For sparse vectors, users can construct a `SparseVector` object from MLlib or pass *SciPy* `scipy.sparse` column vectors if SciPy is available in their environment. The easiest way to create sparse vectors is to use the factory methods implemented in `Vectors`.  "
   ]
  },
  {
   "cell_type": "markdown",
   "metadata": {},
   "source": [
    "### An RDD of dense vectors"
   ]
  },
  {
   "cell_type": "markdown",
   "metadata": {},
   "source": [
    "Let's represent each network interaction in our dataset as a dense vector. For that we will use the *NumPy* `array` type.  "
   ]
  },
  {
   "cell_type": "code",
   "execution_count": 3,
   "metadata": {},
   "outputs": [
    {
     "data": {
      "application/vnd.jupyter.widget-view+json": {
       "model_id": "",
       "version_major": 2,
       "version_minor": 0
      },
      "text/plain": [
       "FloatProgress(value=0.0, bar_style='info', description='Progress:', layout=Layout(height='25px', width='50%'),…"
      ]
     },
     "metadata": {},
     "output_type": "display_data"
    }
   ],
   "source": [
    "import numpy as np\n",
    "\n",
    "def parse_interaction(line):\n",
    "    line_split = line.split(\",\")\n",
    "    # keep just numeric and logical values\n",
    "    symbolic_indexes = [1,2,3,41]\n",
    "    clean_line_split = [item for i,item in enumerate(line_split) if i not in symbolic_indexes]\n",
    "    return np.array([float(x) for x in clean_line_split])\n",
    "\n",
    "vector_data = raw_data.map(parse_interaction)"
   ]
  },
  {
   "cell_type": "markdown",
   "metadata": {},
   "source": [
    "## Summary statistics"
   ]
  },
  {
   "cell_type": "markdown",
   "metadata": {},
   "source": [
    "Spark's MLlib provides column summary statistics for `RDD[Vector]` through the function [`colStats`](https://spark.apache.org/docs/latest/api/python/pyspark.mllib.html#pyspark.mllib.stat.Statistics.colStats) available in [`Statistics`](https://spark.apache.org/docs/latest/api/python/pyspark.mllib.html#pyspark.mllib.stat.Statistics). The method returns an instance of [`MultivariateStatisticalSummary`](https://spark.apache.org/docs/latest/api/python/pyspark.mllib.html#pyspark.mllib.stat.MultivariateStatisticalSummary), which contains the column-wise *max*, *min*, *mean*, *variance*, and *number of nonzeros*, as well as the *total count*.  "
   ]
  },
  {
   "cell_type": "code",
   "execution_count": 4,
   "metadata": {},
   "outputs": [
    {
     "data": {
      "application/vnd.jupyter.widget-view+json": {
       "model_id": "",
       "version_major": 2,
       "version_minor": 0
      },
      "text/plain": [
       "FloatProgress(value=0.0, bar_style='info', description='Progress:', layout=Layout(height='25px', width='50%'),…"
      ]
     },
     "metadata": {},
     "output_type": "display_data"
    },
    {
     "name": "stdout",
     "output_type": "stream",
     "text": [
      "Duration Statistics:\n",
      " Mean: 47.979\n",
      " St. deviation: 707.746\n",
      " Max value: 58329.0\n",
      " Min value: 0.0\n",
      " Total value count: 494021\n",
      " Number of non-zero values: 12350.0"
     ]
    }
   ],
   "source": [
    "from pyspark.mllib.stat import Statistics \n",
    "from math import sqrt \n",
    "\n",
    "# Compute column summary statistics.\n",
    "summary = Statistics.colStats(vector_data)\n",
    "\n",
    "print(\"Duration Statistics:\")\n",
    "print(\" Mean: {}\".format(round(summary.mean()[0],3)))\n",
    "print(\" St. deviation: {}\".format(round(sqrt(summary.variance()[0]),3)))\n",
    "print(\" Max value: {}\".format(round(summary.max()[0],3)))\n",
    "print(\" Min value: {}\".format(round(summary.min()[0],3)))\n",
    "print(\" Total value count: {}\".format(summary.count()))\n",
    "print(\" Number of non-zero values: {}\".format(summary.numNonzeros()[0]))"
   ]
  },
  {
   "cell_type": "markdown",
   "metadata": {},
   "source": [
    "### Summary statistics by label  "
   ]
  },
  {
   "cell_type": "markdown",
   "metadata": {},
   "source": [
    "The interesting part of summary statistics, in our case, comes from being able to obtain them by the type of network attack or 'label' in our dataset. By doing so we will be able to better characterise our dataset dependent variable in terms of the independent variables range of values.  "
   ]
  },
  {
   "cell_type": "markdown",
   "metadata": {},
   "source": [
    "If we want to do such a thing we could filter our RDD containing labels as keys and vectors as values. For that we just need to adapt our `parse_interaction` function to return a tuple with both elements.     "
   ]
  },
  {
   "cell_type": "code",
   "execution_count": 5,
   "metadata": {},
   "outputs": [
    {
     "data": {
      "application/vnd.jupyter.widget-view+json": {
       "model_id": "",
       "version_major": 2,
       "version_minor": 0
      },
      "text/plain": [
       "FloatProgress(value=0.0, bar_style='info', description='Progress:', layout=Layout(height='25px', width='50%'),…"
      ]
     },
     "metadata": {},
     "output_type": "display_data"
    }
   ],
   "source": [
    "def parse_interaction_with_key(line):\n",
    "    line_split = line.split(\",\")\n",
    "    # keep just numeric and logical values\n",
    "    symbolic_indexes = [1,2,3,41]\n",
    "    clean_line_split = [item for i,item in enumerate(line_split) if i not in symbolic_indexes]\n",
    "    return (line_split[41], np.array([float(x) for x in clean_line_split]))\n",
    "\n",
    "label_vector_data = raw_data.map(parse_interaction_with_key)"
   ]
  },
  {
   "cell_type": "markdown",
   "metadata": {},
   "source": [
    "The next step is not very sophisticated. We use `filter` on the RDD to leave out other labels but the one we want to gather statistics from.    "
   ]
  },
  {
   "cell_type": "code",
   "execution_count": 6,
   "metadata": {},
   "outputs": [
    {
     "data": {
      "application/vnd.jupyter.widget-view+json": {
       "model_id": "",
       "version_major": 2,
       "version_minor": 0
      },
      "text/plain": [
       "FloatProgress(value=0.0, bar_style='info', description='Progress:', layout=Layout(height='25px', width='50%'),…"
      ]
     },
     "metadata": {},
     "output_type": "display_data"
    }
   ],
   "source": [
    "normal_label_data = label_vector_data.filter(lambda x: x[0]==\"normal.\")"
   ]
  },
  {
   "cell_type": "markdown",
   "metadata": {},
   "source": [
    "Now we can use the new RDD to call `colStats` on the values.  "
   ]
  },
  {
   "cell_type": "code",
   "execution_count": 7,
   "metadata": {},
   "outputs": [
    {
     "data": {
      "application/vnd.jupyter.widget-view+json": {
       "model_id": "",
       "version_major": 2,
       "version_minor": 0
      },
      "text/plain": [
       "FloatProgress(value=0.0, bar_style='info', description='Progress:', layout=Layout(height='25px', width='50%'),…"
      ]
     },
     "metadata": {},
     "output_type": "display_data"
    }
   ],
   "source": [
    "normal_summary = Statistics.colStats(normal_label_data.values())"
   ]
  },
  {
   "cell_type": "markdown",
   "metadata": {},
   "source": [
    "And collect the results as we did before.  "
   ]
  },
  {
   "cell_type": "code",
   "execution_count": 8,
   "metadata": {},
   "outputs": [
    {
     "data": {
      "application/vnd.jupyter.widget-view+json": {
       "model_id": "",
       "version_major": 2,
       "version_minor": 0
      },
      "text/plain": [
       "FloatProgress(value=0.0, bar_style='info', description='Progress:', layout=Layout(height='25px', width='50%'),…"
      ]
     },
     "metadata": {},
     "output_type": "display_data"
    },
    {
     "name": "stdout",
     "output_type": "stream",
     "text": [
      "Duration Statistics for label: normal\n",
      " Mean: 216.65732231336938\n",
      " St. deviation: 1359.213\n",
      " Max value: 58329.0\n",
      " Min value: 0.0\n",
      " Total value count: 97278\n",
      " Number of non-zero values: 11690.0"
     ]
    }
   ],
   "source": [
    "print(\"Duration Statistics for label: {}\".format(\"normal\"))\n",
    "print(\" Mean: {}\".format(normal_summary.mean()[0],3))\n",
    "print(\" St. deviation: {}\".format(round(sqrt(normal_summary.variance()[0]),3)))\n",
    "print(\" Max value: {}\".format(round(normal_summary.max()[0],3)))\n",
    "print(\" Min value: {}\".format(round(normal_summary.min()[0],3)))\n",
    "print(\" Total value count: {}\".format(normal_summary.count()))\n",
    "print(\" Number of non-zero values: {}\".format(normal_summary.numNonzeros()[0]))"
   ]
  },
  {
   "cell_type": "markdown",
   "metadata": {},
   "source": [
    "Instead of working with a key/value pair we could have just filter our raw data split using the label in column 41. Then we can parse the results as we did before. This will work as well. However having our data organised as key/value pairs will open the door to better manipulations. Since `values()` is a transformation on an RDD, and not an action, we don't perform any computation until we call `colStats` anyway.  "
   ]
  },
  {
   "cell_type": "markdown",
   "metadata": {},
   "source": [
    "But lets wrap this within a function so we can reuse it with any label."
   ]
  },
  {
   "cell_type": "code",
   "execution_count": 9,
   "metadata": {},
   "outputs": [
    {
     "data": {
      "application/vnd.jupyter.widget-view+json": {
       "model_id": "",
       "version_major": 2,
       "version_minor": 0
      },
      "text/plain": [
       "FloatProgress(value=0.0, bar_style='info', description='Progress:', layout=Layout(height='25px', width='50%'),…"
      ]
     },
     "metadata": {},
     "output_type": "display_data"
    }
   ],
   "source": [
    "def summary_by_label(raw_data, label):\n",
    "    label_vector_data = raw_data.map(parse_interaction_with_key).filter(lambda x: x[0]==label)\n",
    "    return Statistics.colStats(label_vector_data.values())"
   ]
  },
  {
   "cell_type": "markdown",
   "metadata": {},
   "source": [
    "Let's give it a try with the \"normal.\" label again.  "
   ]
  },
  {
   "cell_type": "code",
   "execution_count": 10,
   "metadata": {},
   "outputs": [
    {
     "data": {
      "application/vnd.jupyter.widget-view+json": {
       "model_id": "",
       "version_major": 2,
       "version_minor": 0
      },
      "text/plain": [
       "FloatProgress(value=0.0, bar_style='info', description='Progress:', layout=Layout(height='25px', width='50%'),…"
      ]
     },
     "metadata": {},
     "output_type": "display_data"
    },
    {
     "name": "stdout",
     "output_type": "stream",
     "text": [
      "Duration Statistics for label: normal\n",
      " Mean: 216.65732231336938\n",
      " St. deviation: 1359.213\n",
      " Max value: 58329.0\n",
      " Min value: 0.0\n",
      " Total value count: 97278\n",
      " Number of non-zero values: 11690.0"
     ]
    }
   ],
   "source": [
    "normal_sum = summary_by_label(raw_data, \"normal.\")\n",
    "\n",
    "print(\"Duration Statistics for label: {}\".format(\"normal\"))\n",
    "print(\" Mean: {}\".format(normal_sum.mean()[0],3))\n",
    "print(\" St. deviation: {}\".format(round(sqrt(normal_sum.variance()[0]),3)))\n",
    "print(\" Max value: {}\".format(round(normal_sum.max()[0],3)))\n",
    "print(\" Min value: {}\".format(round(normal_sum.min()[0],3)))\n",
    "print(\" Total value count: {}\".format(normal_sum.count()))\n",
    "print(\" Number of non-zero values: {}\".format(normal_sum.numNonzeros()[0]))"
   ]
  },
  {
   "cell_type": "markdown",
   "metadata": {},
   "source": [
    "Let's try now with some network attack. We have all of them listed [here](http://kdd.ics.uci.edu/databases/kddcup99/training_attack_types).  "
   ]
  },
  {
   "cell_type": "code",
   "execution_count": 11,
   "metadata": {},
   "outputs": [
    {
     "data": {
      "application/vnd.jupyter.widget-view+json": {
       "model_id": "",
       "version_major": 2,
       "version_minor": 0
      },
      "text/plain": [
       "FloatProgress(value=0.0, bar_style='info', description='Progress:', layout=Layout(height='25px', width='50%'),…"
      ]
     },
     "metadata": {},
     "output_type": "display_data"
    },
    {
     "name": "stdout",
     "output_type": "stream",
     "text": [
      "Duration Statistics for label: guess_password\n",
      " Mean: 2.7169811320754715\n",
      " St. deviation: 11.88\n",
      " Max value: 60.0\n",
      " Min value: 0.0\n",
      " Total value count: 53\n",
      " Number of non-zero values: 4.0"
     ]
    }
   ],
   "source": [
    "guess_passwd_summary = summary_by_label(raw_data, \"guess_passwd.\")\n",
    "\n",
    "print(\"Duration Statistics for label: {}\".format(\"guess_password\"))\n",
    "print(\" Mean: {}\".format(guess_passwd_summary.mean()[0],3))\n",
    "print(\" St. deviation: {}\".format(round(sqrt(guess_passwd_summary.variance()[0]),3)))\n",
    "print(\" Max value: {}\".format(round(guess_passwd_summary.max()[0],3)))\n",
    "print(\" Min value: {}\".format(round(guess_passwd_summary.min()[0],3)))\n",
    "print(\" Total value count: {}\".format(guess_passwd_summary.count()))\n",
    "print(\" Number of non-zero values: {}\".format(guess_passwd_summary.numNonzeros()[0]))"
   ]
  },
  {
   "cell_type": "markdown",
   "metadata": {},
   "source": [
    "We can see that this type of attack is shorter in duration than a normal interaction. We could build a table with duration statistics for each type of interaction in our dataset. First we need to get a list of labels as described in the first line [here](http://kdd.ics.uci.edu/databases/kddcup99/kddcup.names).      "
   ]
  },
  {
   "cell_type": "code",
   "execution_count": 12,
   "metadata": {},
   "outputs": [
    {
     "data": {
      "application/vnd.jupyter.widget-view+json": {
       "model_id": "",
       "version_major": 2,
       "version_minor": 0
      },
      "text/plain": [
       "FloatProgress(value=0.0, bar_style='info', description='Progress:', layout=Layout(height='25px', width='50%'),…"
      ]
     },
     "metadata": {},
     "output_type": "display_data"
    }
   ],
   "source": [
    "label_list = [\"back.\",\"buffer_overflow.\",\"ftp_write.\",\"guess_passwd.\",\n",
    "              \"imap.\",\"ipsweep.\",\"land.\",\"loadmodule.\",\"multihop.\",\n",
    "              \"neptune.\",\"nmap.\",\"normal.\",\"perl.\",\"phf.\",\"pod.\",\"portsweep.\",\n",
    "              \"rootkit.\",\"satan.\",\"smurf.\",\"spy.\",\"teardrop.\",\"warezclient.\",\n",
    "              \"warezmaster.\"]"
   ]
  },
  {
   "cell_type": "markdown",
   "metadata": {},
   "source": [
    "Then we get a list of statistics for each label.  "
   ]
  },
  {
   "cell_type": "code",
   "execution_count": 13,
   "metadata": {},
   "outputs": [
    {
     "data": {
      "application/vnd.jupyter.widget-view+json": {
       "model_id": "",
       "version_major": 2,
       "version_minor": 0
      },
      "text/plain": [
       "FloatProgress(value=0.0, bar_style='info', description='Progress:', layout=Layout(height='25px', width='50%'),…"
      ]
     },
     "metadata": {},
     "output_type": "display_data"
    }
   ],
   "source": [
    "stats_by_label = [(label, summary_by_label(raw_data, label)) for label in label_list]"
   ]
  },
  {
   "cell_type": "markdown",
   "metadata": {},
   "source": [
    "Now we get the *duration* column, first in our dataset (i.e. index 0).  "
   ]
  },
  {
   "cell_type": "code",
   "execution_count": 14,
   "metadata": {},
   "outputs": [
    {
     "data": {
      "application/vnd.jupyter.widget-view+json": {
       "model_id": "",
       "version_major": 2,
       "version_minor": 0
      },
      "text/plain": [
       "FloatProgress(value=0.0, bar_style='info', description='Progress:', layout=Layout(height='25px', width='50%'),…"
      ]
     },
     "metadata": {},
     "output_type": "display_data"
    }
   ],
   "source": [
    "duration_by_label = [ \n",
    "    (stat[0], np.array([float(stat[1].mean()[0]), float(sqrt(stat[1].variance()[0])), float(stat[1].min()[0]), float(stat[1].max()[0]), int(stat[1].count())])) \n",
    "    for stat in stats_by_label]"
   ]
  },
  {
   "cell_type": "markdown",
   "metadata": {},
   "source": [
    "That we can put into a Pandas data frame.  "
   ]
  },
  {
   "cell_type": "code",
   "execution_count": 15,
   "metadata": {},
   "outputs": [
    {
     "data": {
      "application/vnd.jupyter.widget-view+json": {
       "model_id": "",
       "version_major": 2,
       "version_minor": 0
      },
      "text/plain": [
       "FloatProgress(value=0.0, bar_style='info', description='Progress:', layout=Layout(height='25px', width='50%'),…"
      ]
     },
     "metadata": {},
     "output_type": "display_data"
    },
    {
     "name": "stderr",
     "output_type": "stream",
     "text": [
      "An error was encountered:\n",
      "type object 'DataFrame' has no attribute 'from_items'\n",
      "Traceback (most recent call last):\n",
      "AttributeError: type object 'DataFrame' has no attribute 'from_items'\n",
      "\n"
     ]
    }
   ],
   "source": [
    "import pandas as pd\n",
    "pd.set_option('display.max_columns', 50)\n",
    "\n",
    "stats_by_label_df = pd.DataFrame.from_items(duration_by_label, columns=[\"Mean\", \"Std Dev\", \"Min\", \"Max\", \"Count\"], orient='index')"
   ]
  },
  {
   "cell_type": "markdown",
   "metadata": {},
   "source": [
    "And print it."
   ]
  },
  {
   "cell_type": "code",
   "execution_count": 16,
   "metadata": {},
   "outputs": [
    {
     "data": {
      "application/vnd.jupyter.widget-view+json": {
       "model_id": "",
       "version_major": 2,
       "version_minor": 0
      },
      "text/plain": [
       "FloatProgress(value=0.0, bar_style='info', description='Progress:', layout=Layout(height='25px', width='50%'),…"
      ]
     },
     "metadata": {},
     "output_type": "display_data"
    },
    {
     "name": "stderr",
     "output_type": "stream",
     "text": [
      "An error was encountered:\n",
      "name 'stats_by_label_df' is not defined\n",
      "Traceback (most recent call last):\n",
      "NameError: name 'stats_by_label_df' is not defined\n",
      "\n"
     ]
    }
   ],
   "source": [
    "print(\"Duration statistics, by label\")\n",
    "stats_by_label_df"
   ]
  },
  {
   "cell_type": "markdown",
   "metadata": {},
   "source": [
    "In order to reuse this code and get a dataframe from any variable in our dataset we will define a function.  "
   ]
  },
  {
   "cell_type": "code",
   "execution_count": 17,
   "metadata": {},
   "outputs": [
    {
     "data": {
      "application/vnd.jupyter.widget-view+json": {
       "model_id": "",
       "version_major": 2,
       "version_minor": 0
      },
      "text/plain": [
       "FloatProgress(value=0.0, bar_style='info', description='Progress:', layout=Layout(height='25px', width='50%'),…"
      ]
     },
     "metadata": {},
     "output_type": "display_data"
    }
   ],
   "source": [
    "def get_variable_stats_df(stats_by_label, column_i):\n",
    "    column_stats_by_label = [\n",
    "        (stat[0], np.array([float(stat[1].mean()[column_i]), float(sqrt(stat[1].variance()[column_i])), float(stat[1].min()[column_i]), float(stat[1].max()[column_i]), int(stat[1].count())])) \n",
    "        for stat in stats_by_label\n",
    "    ]\n",
    "    return pd.DataFrame.from_items(column_stats_by_label, columns=[\"Mean\", \"Std Dev\", \"Min\", \"Max\", \"Count\"], orient='index')"
   ]
  },
  {
   "cell_type": "markdown",
   "metadata": {},
   "source": [
    "Let's try for *duration* again.   "
   ]
  },
  {
   "cell_type": "code",
   "execution_count": 18,
   "metadata": {},
   "outputs": [
    {
     "data": {
      "application/vnd.jupyter.widget-view+json": {
       "model_id": "",
       "version_major": 2,
       "version_minor": 0
      },
      "text/plain": [
       "FloatProgress(value=0.0, bar_style='info', description='Progress:', layout=Layout(height='25px', width='50%'),…"
      ]
     },
     "metadata": {},
     "output_type": "display_data"
    },
    {
     "name": "stderr",
     "output_type": "stream",
     "text": [
      "An error was encountered:\n",
      "type object 'DataFrame' has no attribute 'from_items'\n",
      "Traceback (most recent call last):\n",
      "  File \"<stdin>\", line 6, in get_variable_stats_df\n",
      "AttributeError: type object 'DataFrame' has no attribute 'from_items'\n",
      "\n"
     ]
    }
   ],
   "source": [
    "get_variable_stats_df(stats_by_label,0)"
   ]
  },
  {
   "cell_type": "markdown",
   "metadata": {},
   "source": [
    "Now for the next numeric column in the dataset, *src_bytes*.  "
   ]
  },
  {
   "cell_type": "code",
   "execution_count": 19,
   "metadata": {},
   "outputs": [
    {
     "data": {
      "application/vnd.jupyter.widget-view+json": {
       "model_id": "",
       "version_major": 2,
       "version_minor": 0
      },
      "text/plain": [
       "FloatProgress(value=0.0, bar_style='info', description='Progress:', layout=Layout(height='25px', width='50%'),…"
      ]
     },
     "metadata": {},
     "output_type": "display_data"
    },
    {
     "name": "stderr",
     "output_type": "stream",
     "text": [
      "An error was encountered:\n",
      "type object 'DataFrame' has no attribute 'from_items'\n",
      "Traceback (most recent call last):\n",
      "  File \"<stdin>\", line 6, in get_variable_stats_df\n",
      "AttributeError: type object 'DataFrame' has no attribute 'from_items'\n",
      "\n"
     ]
    }
   ],
   "source": [
    "print(\"src_bytes statistics, by label\")\n",
    "get_variable_stats_df(stats_by_label,1)"
   ]
  },
  {
   "cell_type": "markdown",
   "metadata": {},
   "source": [
    "And so on. By reusing the `summary_by_label` and `get_variable_stats_df` functions we can perform some exploratory data analysis in large datasets with Spark.  "
   ]
  },
  {
   "cell_type": "markdown",
   "metadata": {},
   "source": [
    "## Correlations"
   ]
  },
  {
   "cell_type": "markdown",
   "metadata": {},
   "source": [
    "Spark's MLlib supports [Pearson’s](http://en.wikipedia.org/wiki/Pearson_product-moment_correlation_coefficient) and [Spearman’s](http://en.wikipedia.org/wiki/Spearman%27s_rank_correlation_coefficient) to calculate pairwise correlation methods among many series. Both of them are provided by the `corr` method in the `Statistics` package.  "
   ]
  },
  {
   "cell_type": "markdown",
   "metadata": {},
   "source": [
    "We have two options as input. Either two `RDD[Double]`s or an `RDD[Vector]`. In the first case the output will be a `Double` value, while in the second a whole correlation Matrix. Due to the nature of our data, we will obtain the second.    "
   ]
  },
  {
   "cell_type": "code",
   "execution_count": 20,
   "metadata": {},
   "outputs": [
    {
     "data": {
      "application/vnd.jupyter.widget-view+json": {
       "model_id": "",
       "version_major": 2,
       "version_minor": 0
      },
      "text/plain": [
       "FloatProgress(value=0.0, bar_style='info', description='Progress:', layout=Layout(height='25px', width='50%'),…"
      ]
     },
     "metadata": {},
     "output_type": "display_data"
    }
   ],
   "source": [
    "from pyspark.mllib.stat import Statistics \n",
    "correlation_matrix = Statistics.corr(vector_data, method=\"spearman\")"
   ]
  },
  {
   "cell_type": "markdown",
   "metadata": {},
   "source": [
    "Once we have the correlations ready, we can start inspecting their values.  "
   ]
  },
  {
   "cell_type": "code",
   "execution_count": 21,
   "metadata": {},
   "outputs": [
    {
     "data": {
      "application/vnd.jupyter.widget-view+json": {
       "model_id": "",
       "version_major": 2,
       "version_minor": 0
      },
      "text/plain": [
       "FloatProgress(value=0.0, bar_style='info', description='Progress:', layout=Layout(height='25px', width='50%'),…"
      ]
     },
     "metadata": {},
     "output_type": "display_data"
    },
    {
     "name": "stdout",
     "output_type": "stream",
     "text": [
      "                             duration  src_bytes  dst_bytes      land  \\\n",
      "duration                     1.000000   0.014196   0.299189 -0.001068   \n",
      "src_bytes                    0.014196   1.000000  -0.167931 -0.009404   \n",
      "dst_bytes                    0.299189  -0.167931   1.000000 -0.003040   \n",
      "land                        -0.001068  -0.009404  -0.003040  1.000000   \n",
      "wrong_fragment              -0.008025  -0.019358  -0.022659 -0.000334   \n",
      "urgent                       0.017884   0.000094   0.007234 -0.000019   \n",
      "hot                          0.108639   0.113920   0.193156 -0.000538   \n",
      "num_failed_logins            0.014363  -0.008396   0.021952 -0.000075   \n",
      "logged_in                    0.159564  -0.089702   0.882185 -0.002784   \n",
      "num_compromised              0.010687   0.118562   0.169772 -0.000449   \n",
      "root_shell                   0.040425   0.003067   0.026054 -0.000070   \n",
      "su_attempted                 0.026012   0.002282   0.012191 -0.000033   \n",
      "num_root                     0.013401  -0.002050  -0.003884 -0.000230   \n",
      "num_file_creations           0.061099   0.027710   0.034154 -0.000155   \n",
      "num_shells                   0.008633   0.014403  -0.000055 -0.000068   \n",
      "num_access_files             0.019407  -0.001497   0.065775 -0.000202   \n",
      "num_outbound_cmds                 NaN        NaN        NaN       NaN   \n",
      "is_hot_login                      NaN        NaN        NaN       NaN   \n",
      "is_guest_login               0.205607   0.027511   0.085947 -0.000249   \n",
      "count                       -0.259032   0.666230  -0.639157 -0.010939   \n",
      "srv_count                   -0.250139   0.722609  -0.497683 -0.010128   \n",
      "serror_rate                 -0.074211  -0.657460  -0.205848  0.014160   \n",
      "srv_serror_rate             -0.073663  -0.652391  -0.198715  0.014343   \n",
      "rerror_rate                 -0.025936  -0.342180  -0.100958 -0.000452   \n",
      "srv_rerror_rate             -0.026420  -0.332977  -0.081307 -0.001688   \n",
      "same_srv_rate                0.062291   0.744046   0.229677  0.002153   \n",
      "diff_srv_rate               -0.050875  -0.739988  -0.222572 -0.001846   \n",
      "srv_diff_host_rate           0.123621  -0.104042   0.521003  0.020680   \n",
      "dst_host_count              -0.161107   0.130377  -0.611972 -0.019922   \n",
      "dst_host_srv_count          -0.217167   0.741979   0.024124 -0.012342   \n",
      "dst_host_same_srv_rate      -0.211979   0.729151   0.055033  0.002574   \n",
      "dst_host_diff_srv_rate       0.231644  -0.712965  -0.035073 -0.001803   \n",
      "dst_host_same_src_port_rate -0.065202   0.815039  -0.396195  0.004265   \n",
      "dst_host_srv_diff_host_rate  0.100692  -0.140231   0.578557  0.016173   \n",
      "dst_host_serror_rate        -0.056753  -0.645919  -0.167047  0.013565   \n",
      "dst_host_srv_serror_rate    -0.057298  -0.641792  -0.158378  0.012264   \n",
      "dst_host_rerror_rate        -0.007759  -0.297338  -0.003042  0.000386   \n",
      "dst_host_srv_rerror_rate    -0.013891  -0.300581   0.001621 -0.001820   \n",
      "\n",
      "                             wrong_fragment    urgent       hot  \\\n",
      "duration                          -0.008025  0.017884  0.108639   \n",
      "src_bytes                         -0.019358  0.000094  0.113920   \n",
      "dst_bytes                         -0.022659  0.007234  0.193156   \n",
      "land                              -0.000334 -0.000019 -0.000538   \n",
      "wrong_fragment                     1.000000 -0.000143 -0.004042   \n",
      "urgent                            -0.000143  1.000000  0.008596   \n",
      "hot                               -0.004042  0.008596  1.000000   \n",
      "num_failed_logins                 -0.000566  0.062973  0.112558   \n",
      "logged_in                         -0.020911  0.006821  0.189126   \n",
      "num_compromised                   -0.003371  0.031781  0.811529   \n",
      "root_shell                        -0.000529  0.067394  0.101986   \n",
      "su_attempted                      -0.000247 -0.000014 -0.000397   \n",
      "num_root                          -0.001726  0.061989  0.003096   \n",
      "num_file_creations                -0.001161  0.061373  0.028693   \n",
      "num_shells                        -0.000509 -0.000029  0.009144   \n",
      "num_access_files                  -0.001520  0.023389  0.004223   \n",
      "num_outbound_cmds                       NaN       NaN       NaN   \n",
      "is_hot_login                            NaN       NaN       NaN   \n",
      "is_guest_login                    -0.001868 -0.000106  0.463709   \n",
      "count                             -0.057711 -0.004780 -0.120847   \n",
      "srv_count                         -0.029117 -0.004798 -0.114735   \n",
      "serror_rate                       -0.008850 -0.001335 -0.035487   \n",
      "srv_serror_rate                   -0.023382 -0.001327 -0.034934   \n",
      "rerror_rate                        0.000430 -0.000711  0.013468   \n",
      "srv_rerror_rate                   -0.012676 -0.000720  0.052002   \n",
      "same_srv_rate                      0.010218  0.001524  0.041342   \n",
      "diff_srv_rate                     -0.009386 -0.001526 -0.040555   \n",
      "srv_diff_host_rate                 0.012117 -0.000781  0.032141   \n",
      "dst_host_count                    -0.029149 -0.005898 -0.074178   \n",
      "dst_host_srv_count                -0.058225 -0.005700 -0.017960   \n",
      "dst_host_same_srv_rate            -0.049560 -0.004081  0.018783   \n",
      "dst_host_diff_srv_rate             0.055542  0.005210 -0.017198   \n",
      "dst_host_same_src_port_rate       -0.015449 -0.001941 -0.086998   \n",
      "dst_host_srv_diff_host_rate        0.007306 -0.000975 -0.014141   \n",
      "dst_host_serror_rate               0.010387 -0.001379 -0.004706   \n",
      "dst_host_srv_serror_rate          -0.024117 -0.001369 -0.010721   \n",
      "dst_host_rerror_rate               0.046655 -0.000788  0.199018   \n",
      "dst_host_srv_rerror_rate          -0.013666 -0.000776  0.189142   \n",
      "\n",
      "                             num_failed_logins  logged_in  num_compromised  \\\n",
      "duration                              0.014363   0.159564         0.010687   \n",
      "src_bytes                            -0.008396  -0.089702         0.118562   \n",
      "dst_bytes                             0.021952   0.882185         0.169772   \n",
      "land                                 -0.000075  -0.002784        -0.000449   \n",
      "wrong_fragment                       -0.000566  -0.020911        -0.003371   \n",
      "urgent                                0.062973   0.006821         0.031781   \n",
      "hot                                   0.112558   0.189126         0.811529   \n",
      "num_failed_logins                     1.000000  -0.002189         0.004621   \n",
      "logged_in                            -0.002189   1.000000         0.161190   \n",
      "num_compromised                       0.004621   0.161190         1.000000   \n",
      "root_shell                            0.016873   0.025293         0.085552   \n",
      "su_attempted                          0.072693   0.011814         0.048970   \n",
      "num_root                              0.010047   0.082533         0.028557   \n",
      "num_file_creations                    0.015221   0.055530         0.031221   \n",
      "num_shells                           -0.000115   0.024356         0.011261   \n",
      "num_access_files                      0.005573   0.072697         0.006979   \n",
      "num_outbound_cmds                          NaN        NaN              NaN   \n",
      "is_hot_login                               NaN        NaN              NaN   \n",
      "is_guest_login                       -0.000421   0.089318        -0.002506   \n",
      "count                                -0.018024  -0.578287        -0.097212   \n",
      "srv_count                            -0.018027  -0.438947        -0.091154   \n",
      "serror_rate                          -0.003674  -0.187114        -0.030516   \n",
      "srv_serror_rate                      -0.004027  -0.180122        -0.030264   \n",
      "rerror_rate                           0.035325  -0.091962         0.008573   \n",
      "srv_rerror_rate                       0.034879  -0.072287         0.054006   \n",
      "same_srv_rate                         0.005716   0.216969         0.035253   \n",
      "diff_srv_rate                        -0.005538  -0.214019        -0.034953   \n",
      "srv_diff_host_rate                   -0.003099   0.503807         0.036497   \n",
      "dst_host_count                       -0.028371  -0.682721        -0.041615   \n",
      "dst_host_srv_count                   -0.015092   0.080352         0.003465   \n",
      "dst_host_same_srv_rate                0.003003   0.114526         0.038979   \n",
      "dst_host_diff_srv_rate               -0.002961  -0.093565        -0.039091   \n",
      "dst_host_same_src_port_rate          -0.006617  -0.359506        -0.078844   \n",
      "dst_host_srv_diff_host_rate          -0.002585   0.659078        -0.020978   \n",
      "dst_host_serror_rate                  0.014713  -0.143283        -0.005019   \n",
      "dst_host_srv_serror_rate              0.014914  -0.132474        -0.004504   \n",
      "dst_host_rerror_rate                  0.032393   0.007236         0.214115   \n",
      "dst_host_srv_rerror_rate              0.032151   0.012979         0.217859   \n",
      "\n",
      "                             root_shell  su_attempted  num_root  \\\n",
      "duration                       0.040425      0.026012  0.013401   \n",
      "src_bytes                      0.003067      0.002282 -0.002050   \n",
      "dst_bytes                      0.026054      0.012191 -0.003884   \n",
      "land                          -0.000070     -0.000033 -0.000230   \n",
      "wrong_fragment                -0.000529     -0.000247 -0.001726   \n",
      "urgent                         0.067394     -0.000014  0.061989   \n",
      "hot                            0.101986     -0.000397  0.003096   \n",
      "num_failed_logins              0.016873      0.072693  0.010047   \n",
      "logged_in                      0.025293      0.011814  0.082533   \n",
      "num_compromised                0.085552      0.048970  0.028557   \n",
      "root_shell                     1.000000      0.233516  0.094521   \n",
      "su_attempted                   0.233516      1.000000  0.119334   \n",
      "num_root                       0.094521      0.119334  1.000000   \n",
      "num_file_creations             0.140635      0.053093  0.047516   \n",
      "num_shells                     0.132082      0.040374  0.034419   \n",
      "num_access_files               0.069360      0.081239  0.014517   \n",
      "num_outbound_cmds                   NaN           NaN       NaN   \n",
      "is_hot_login                        NaN           NaN       NaN   \n",
      "is_guest_login                -0.000393     -0.000184 -0.001283   \n",
      "count                         -0.016409     -0.008279 -0.054721   \n",
      "srv_count                     -0.015175     -0.008227 -0.053529   \n",
      "serror_rate                   -0.004951     -0.002313 -0.016031   \n",
      "srv_serror_rate               -0.004922     -0.002299 -0.015936   \n",
      "rerror_rate                   -0.001102     -0.001232 -0.008609   \n",
      "srv_rerror_rate               -0.001147     -0.001246 -0.008708   \n",
      "same_srv_rate                  0.004944      0.002639  0.013881   \n",
      "diff_srv_rate                 -0.004555     -0.002643 -0.011337   \n",
      "srv_diff_host_rate             0.002289      0.000341  0.006316   \n",
      "dst_host_count                -0.021371     -0.006690 -0.078715   \n",
      "dst_host_srv_count            -0.011906     -0.006290 -0.038688   \n",
      "dst_host_same_srv_rate         0.000514     -0.005733 -0.038935   \n",
      "dst_host_diff_srv_rate        -0.000917      0.006688  0.047414   \n",
      "dst_host_same_src_port_rate   -0.004618     -0.005016 -0.015968   \n",
      "dst_host_srv_diff_host_rate    0.008629      0.001050  0.061029   \n",
      "dst_host_serror_rate          -0.003501      0.001973 -0.008457   \n",
      "dst_host_srv_serror_rate      -0.003030      0.002888 -0.007097   \n",
      "dst_host_rerror_rate           0.002763      0.003173 -0.000422   \n",
      "dst_host_srv_rerror_rate       0.002156      0.001735 -0.005013   \n",
      "\n",
      "                             num_file_creations  num_shells  num_access_files  \\\n",
      "duration                               0.061099    0.008633          0.019407   \n",
      "src_bytes                              0.027710    0.014403         -0.001497   \n",
      "dst_bytes                              0.034154   -0.000055          0.065775   \n",
      "land                                  -0.000155   -0.000068         -0.000202   \n",
      "wrong_fragment                        -0.001161   -0.000509         -0.001520   \n",
      "urgent                                 0.061373   -0.000029          0.023389   \n",
      "hot                                    0.028693    0.009144          0.004223   \n",
      "num_failed_logins                      0.015221   -0.000115          0.005573   \n",
      "logged_in                              0.055530    0.024356          0.072697   \n",
      "num_compromised                        0.031221    0.011261          0.006979   \n",
      "root_shell                             0.140635    0.132082          0.069360   \n",
      "su_attempted                           0.053093    0.040374          0.081239   \n",
      "num_root                               0.047516    0.034419          0.014517   \n",
      "num_file_creations                     1.000000    0.068628          0.031042   \n",
      "num_shells                             0.068628    1.000000          0.019423   \n",
      "num_access_files                       0.031042    0.019423          1.000000   \n",
      "num_outbound_cmds                           NaN         NaN               NaN   \n",
      "is_hot_login                                NaN         NaN               NaN   \n",
      "is_guest_login                         0.013233   -0.000379          0.002460   \n",
      "count                                 -0.036467   -0.013937         -0.045281   \n",
      "srv_count                             -0.034598   -0.011786         -0.040497   \n",
      "serror_rate                           -0.009704   -0.004342         -0.013944   \n",
      "srv_serror_rate                       -0.010390   -0.004740         -0.013573   \n",
      "rerror_rate                           -0.005070   -0.002541         -0.007583   \n",
      "srv_rerror_rate                       -0.004773   -0.002570          0.001876   \n",
      "same_srv_rate                          0.009784    0.004280          0.015499   \n",
      "diff_srv_rate                         -0.008712   -0.003743         -0.015113   \n",
      "srv_diff_host_rate                     0.014414    0.001094          0.024268   \n",
      "dst_host_count                        -0.049530   -0.021199         -0.023867   \n",
      "dst_host_srv_count                    -0.026890   -0.012017         -0.023657   \n",
      "dst_host_same_srv_rate                -0.021730   -0.009962         -0.021358   \n",
      "dst_host_diff_srv_rate                 0.027091    0.010762          0.026704   \n",
      "dst_host_same_src_port_rate           -0.015019   -0.003523         -0.033287   \n",
      "dst_host_srv_diff_host_rate            0.030588    0.015876          0.011765   \n",
      "dst_host_serror_rate                  -0.002258   -0.001592         -0.011195   \n",
      "dst_host_srv_serror_rate              -0.004295   -0.002357         -0.011485   \n",
      "dst_host_rerror_rate                   0.000623   -0.000625         -0.004741   \n",
      "dst_host_srv_rerror_rate              -0.001093   -0.002024         -0.004555   \n",
      "\n",
      "                             num_outbound_cmds  is_hot_login  is_guest_login  \\\n",
      "duration                                   NaN           NaN        0.205607   \n",
      "src_bytes                                  NaN           NaN        0.027511   \n",
      "dst_bytes                                  NaN           NaN        0.085947   \n",
      "land                                       NaN           NaN       -0.000249   \n",
      "wrong_fragment                             NaN           NaN       -0.001868   \n",
      "urgent                                     NaN           NaN       -0.000106   \n",
      "hot                                        NaN           NaN        0.463709   \n",
      "num_failed_logins                          NaN           NaN       -0.000421   \n",
      "logged_in                                  NaN           NaN        0.089318   \n",
      "num_compromised                            NaN           NaN       -0.002506   \n",
      "root_shell                                 NaN           NaN       -0.000393   \n",
      "su_attempted                               NaN           NaN       -0.000184   \n",
      "num_root                                   NaN           NaN       -0.001283   \n",
      "num_file_creations                         NaN           NaN        0.013233   \n",
      "num_shells                                 NaN           NaN       -0.000379   \n",
      "num_access_files                           NaN           NaN        0.002460   \n",
      "num_outbound_cmds                          1.0           NaN             NaN   \n",
      "is_hot_login                               NaN           1.0             NaN   \n",
      "is_guest_login                             NaN           NaN        1.000000   \n",
      "count                                      NaN           NaN       -0.062340   \n",
      "srv_count                                  NaN           NaN       -0.062714   \n",
      "serror_rate                                NaN           NaN       -0.017343   \n",
      "srv_serror_rate                            NaN           NaN       -0.017241   \n",
      "rerror_rate                                NaN           NaN       -0.008867   \n",
      "srv_rerror_rate                            NaN           NaN       -0.009194   \n",
      "same_srv_rate                              NaN           NaN        0.018042   \n",
      "diff_srv_rate                              NaN           NaN       -0.017000   \n",
      "srv_diff_host_rate                         NaN           NaN       -0.008878   \n",
      "dst_host_count                             NaN           NaN       -0.055454   \n",
      "dst_host_srv_count                         NaN           NaN       -0.044366   \n",
      "dst_host_same_srv_rate                     NaN           NaN       -0.041750   \n",
      "dst_host_diff_srv_rate                     NaN           NaN        0.044641   \n",
      "dst_host_same_src_port_rate                NaN           NaN       -0.038091   \n",
      "dst_host_srv_diff_host_rate                NaN           NaN       -0.012580   \n",
      "dst_host_serror_rate                       NaN           NaN       -0.001065   \n",
      "dst_host_srv_serror_rate                   NaN           NaN       -0.016887   \n",
      "dst_host_rerror_rate                       NaN           NaN        0.025280   \n",
      "dst_host_srv_rerror_rate                   NaN           NaN       -0.004289   \n",
      "\n",
      "                                count  srv_count  serror_rate  \\\n",
      "duration                    -0.259032  -0.250139    -0.074211   \n",
      "src_bytes                    0.666230   0.722609    -0.657460   \n",
      "dst_bytes                   -0.639157  -0.497683    -0.205848   \n",
      "land                        -0.010939  -0.010128     0.014160   \n",
      "wrong_fragment              -0.057711  -0.029117    -0.008850   \n",
      "urgent                      -0.004780  -0.004798    -0.001335   \n",
      "hot                         -0.120847  -0.114735    -0.035487   \n",
      "num_failed_logins           -0.018024  -0.018027    -0.003674   \n",
      "logged_in                   -0.578287  -0.438947    -0.187114   \n",
      "num_compromised             -0.097212  -0.091154    -0.030516   \n",
      "root_shell                  -0.016409  -0.015175    -0.004951   \n",
      "su_attempted                -0.008279  -0.008227    -0.002313   \n",
      "num_root                    -0.054721  -0.053529    -0.016031   \n",
      "num_file_creations          -0.036467  -0.034598    -0.009704   \n",
      "num_shells                  -0.013937  -0.011786    -0.004342   \n",
      "num_access_files            -0.045281  -0.040497    -0.013944   \n",
      "num_outbound_cmds                 NaN        NaN          NaN   \n",
      "is_hot_login                      NaN        NaN          NaN   \n",
      "is_guest_login              -0.062340  -0.062714    -0.017343   \n",
      "count                        1.000000   0.950587    -0.303538   \n",
      "srv_count                    0.950587   1.000000    -0.428185   \n",
      "serror_rate                 -0.303538  -0.428185     1.000000   \n",
      "srv_serror_rate             -0.308923  -0.421424     0.990888   \n",
      "rerror_rate                 -0.213824  -0.281468    -0.091157   \n",
      "srv_rerror_rate             -0.221352  -0.284034    -0.095285   \n",
      "same_srv_rate                0.346718   0.517227    -0.851915   \n",
      "diff_srv_rate               -0.361737  -0.511998     0.828012   \n",
      "srv_diff_host_rate          -0.384010  -0.239057    -0.121489   \n",
      "dst_host_count               0.547443   0.442611     0.165351   \n",
      "dst_host_srv_count           0.586979   0.720746    -0.724317   \n",
      "dst_host_same_srv_rate       0.539697   0.681955    -0.745745   \n",
      "dst_host_diff_srv_rate      -0.546869  -0.673916     0.719707   \n",
      "dst_host_same_src_port_rate  0.776906   0.812280    -0.650336   \n",
      "dst_host_srv_diff_host_rate -0.496554  -0.391712    -0.153568   \n",
      "dst_host_serror_rate        -0.331571  -0.449096     0.973947   \n",
      "dst_host_srv_serror_rate    -0.335290  -0.442823     0.965663   \n",
      "dst_host_rerror_rate        -0.261194  -0.313442    -0.103198   \n",
      "dst_host_srv_rerror_rate    -0.256176  -0.308132    -0.105434   \n",
      "\n",
      "                             srv_serror_rate  rerror_rate  srv_rerror_rate  \\\n",
      "duration                           -0.073663    -0.025936        -0.026420   \n",
      "src_bytes                          -0.652391    -0.342180        -0.332977   \n",
      "dst_bytes                          -0.198715    -0.100958        -0.081307   \n",
      "land                                0.014343    -0.000452        -0.001688   \n",
      "wrong_fragment                     -0.023382     0.000430        -0.012676   \n",
      "urgent                             -0.001327    -0.000711        -0.000720   \n",
      "hot                                -0.034934     0.013468         0.052002   \n",
      "num_failed_logins                  -0.004027     0.035325         0.034879   \n",
      "logged_in                          -0.180122    -0.091962        -0.072287   \n",
      "num_compromised                    -0.030264     0.008573         0.054006   \n",
      "root_shell                         -0.004922    -0.001102        -0.001147   \n",
      "su_attempted                       -0.002299    -0.001232        -0.001246   \n",
      "num_root                           -0.015936    -0.008609        -0.008708   \n",
      "num_file_creations                 -0.010390    -0.005070        -0.004773   \n",
      "num_shells                         -0.004740    -0.002541        -0.002570   \n",
      "num_access_files                   -0.013573    -0.007583         0.001876   \n",
      "num_outbound_cmds                        NaN          NaN              NaN   \n",
      "is_hot_login                             NaN          NaN              NaN   \n",
      "is_guest_login                     -0.017241    -0.008867        -0.009194   \n",
      "count                              -0.308923    -0.213824        -0.221352   \n",
      "srv_count                          -0.421424    -0.281468        -0.284034   \n",
      "serror_rate                         0.990888    -0.091157        -0.095285   \n",
      "srv_serror_rate                     1.000000    -0.110665        -0.115286   \n",
      "rerror_rate                        -0.110665     1.000000         0.978814   \n",
      "srv_rerror_rate                    -0.115286     0.978814         1.000000   \n",
      "same_srv_rate                      -0.839315    -0.327986        -0.316568   \n",
      "diff_srv_rate                       0.815305     0.345571         0.333439   \n",
      "srv_diff_host_rate                 -0.112222    -0.017901         0.011285   \n",
      "dst_host_count                      0.160322    -0.067857        -0.072595   \n",
      "dst_host_srv_count                 -0.713313    -0.330391        -0.323032   \n",
      "dst_host_same_srv_rate             -0.734334    -0.303126        -0.294328   \n",
      "dst_host_diff_srv_rate              0.707753     0.308722         0.300186   \n",
      "dst_host_same_src_port_rate        -0.646256    -0.278465        -0.282239   \n",
      "dst_host_srv_diff_host_rate        -0.148073     0.073061         0.075178   \n",
      "dst_host_serror_rate                0.967214    -0.094076        -0.096146   \n",
      "dst_host_srv_serror_rate            0.970617    -0.110646        -0.114341   \n",
      "dst_host_rerror_rate               -0.122630     0.910225         0.904591   \n",
      "dst_host_srv_rerror_rate           -0.124657     0.911623         0.914904   \n",
      "\n",
      "                             same_srv_rate  diff_srv_rate  srv_diff_host_rate  \\\n",
      "duration                          0.062291      -0.050875            0.123621   \n",
      "src_bytes                         0.744046      -0.739988           -0.104042   \n",
      "dst_bytes                         0.229677      -0.222572            0.521003   \n",
      "land                              0.002153      -0.001846            0.020680   \n",
      "wrong_fragment                    0.010218      -0.009386            0.012117   \n",
      "urgent                            0.001524      -0.001526           -0.000781   \n",
      "hot                               0.041342      -0.040555            0.032141   \n",
      "num_failed_logins                 0.005716      -0.005538           -0.003099   \n",
      "logged_in                         0.216969      -0.214019            0.503807   \n",
      "num_compromised                   0.035253      -0.034953            0.036497   \n",
      "root_shell                        0.004944      -0.004555            0.002289   \n",
      "su_attempted                      0.002639      -0.002643            0.000341   \n",
      "num_root                          0.013881      -0.011337            0.006316   \n",
      "num_file_creations                0.009784      -0.008712            0.014414   \n",
      "num_shells                        0.004280      -0.003743            0.001094   \n",
      "num_access_files                  0.015499      -0.015113            0.024268   \n",
      "num_outbound_cmds                      NaN            NaN                 NaN   \n",
      "is_hot_login                           NaN            NaN                 NaN   \n",
      "is_guest_login                    0.018042      -0.017000           -0.008878   \n",
      "count                             0.346718      -0.361737           -0.384010   \n",
      "srv_count                         0.517227      -0.511998           -0.239057   \n",
      "serror_rate                      -0.851915       0.828012           -0.121489   \n",
      "srv_serror_rate                  -0.839315       0.815305           -0.112222   \n",
      "rerror_rate                      -0.327986       0.345571           -0.017901   \n",
      "srv_rerror_rate                  -0.316568       0.333439            0.011285   \n",
      "same_srv_rate                     1.000000      -0.982109            0.140660   \n",
      "diff_srv_rate                    -0.982109       1.000000           -0.138293   \n",
      "srv_diff_host_rate                0.140660      -0.138293            1.000000   \n",
      "dst_host_count                   -0.190121       0.185942           -0.445052   \n",
      "dst_host_srv_count                0.848754      -0.844028            0.035010   \n",
      "dst_host_same_srv_rate            0.873551      -0.868580            0.068648   \n",
      "dst_host_diff_srv_rate           -0.844537       0.850911           -0.050472   \n",
      "dst_host_same_src_port_rate       0.732841      -0.727031           -0.222707   \n",
      "dst_host_srv_diff_host_rate       0.179040      -0.176930            0.433173   \n",
      "dst_host_serror_rate             -0.830066       0.807205           -0.097973   \n",
      "dst_host_srv_serror_rate         -0.819335       0.795844           -0.092661   \n",
      "dst_host_rerror_rate             -0.282487       0.299041            0.022584   \n",
      "dst_host_srv_rerror_rate         -0.282914       0.298904            0.024722   \n",
      "\n",
      "                             dst_host_count  dst_host_srv_count  \\\n",
      "duration                          -0.161107           -0.217167   \n",
      "src_bytes                          0.130377            0.741979   \n",
      "dst_bytes                         -0.611972            0.024124   \n",
      "land                              -0.019922           -0.012342   \n",
      "wrong_fragment                    -0.029149           -0.058225   \n",
      "urgent                            -0.005898           -0.005700   \n",
      "hot                               -0.074178           -0.017960   \n",
      "num_failed_logins                 -0.028371           -0.015092   \n",
      "logged_in                         -0.682721            0.080352   \n",
      "num_compromised                   -0.041615            0.003465   \n",
      "root_shell                        -0.021371           -0.011906   \n",
      "su_attempted                      -0.006690           -0.006290   \n",
      "num_root                          -0.078715           -0.038688   \n",
      "num_file_creations                -0.049530           -0.026890   \n",
      "num_shells                        -0.021199           -0.012017   \n",
      "num_access_files                  -0.023867           -0.023657   \n",
      "num_outbound_cmds                       NaN                 NaN   \n",
      "is_hot_login                            NaN                 NaN   \n",
      "is_guest_login                    -0.055454           -0.044366   \n",
      "count                              0.547443            0.586979   \n",
      "srv_count                          0.442611            0.720746   \n",
      "serror_rate                        0.165351           -0.724317   \n",
      "srv_serror_rate                    0.160322           -0.713313   \n",
      "rerror_rate                       -0.067857           -0.330391   \n",
      "srv_rerror_rate                   -0.072595           -0.323032   \n",
      "same_srv_rate                     -0.190121            0.848754   \n",
      "diff_srv_rate                      0.185942           -0.844028   \n",
      "srv_diff_host_rate                -0.445052            0.035010   \n",
      "dst_host_count                     1.000000            0.022731   \n",
      "dst_host_srv_count                 0.022731            1.000000   \n",
      "dst_host_same_srv_rate            -0.070448            0.970072   \n",
      "dst_host_diff_srv_rate             0.044338           -0.955178   \n",
      "dst_host_same_src_port_rate        0.189876            0.769481   \n",
      "dst_host_srv_diff_host_rate       -0.918894            0.043668   \n",
      "dst_host_serror_rate               0.123881           -0.722607   \n",
      "dst_host_srv_serror_rate           0.113846           -0.708392   \n",
      "dst_host_rerror_rate              -0.125142           -0.312040   \n",
      "dst_host_srv_rerror_rate          -0.125273           -0.300787   \n",
      "\n",
      "                             dst_host_same_srv_rate  dst_host_diff_srv_rate  \\\n",
      "duration                                  -0.211979                0.231644   \n",
      "src_bytes                                  0.729151               -0.712965   \n",
      "dst_bytes                                  0.055033               -0.035073   \n",
      "land                                       0.002574               -0.001803   \n",
      "wrong_fragment                            -0.049560                0.055542   \n",
      "urgent                                    -0.004081                0.005210   \n",
      "hot                                        0.018783               -0.017198   \n",
      "num_failed_logins                          0.003003               -0.002961   \n",
      "logged_in                                  0.114526               -0.093565   \n",
      "num_compromised                            0.038979               -0.039091   \n",
      "root_shell                                 0.000514               -0.000917   \n",
      "su_attempted                              -0.005733                0.006688   \n",
      "num_root                                  -0.038935                0.047414   \n",
      "num_file_creations                        -0.021730                0.027091   \n",
      "num_shells                                -0.009962                0.010762   \n",
      "num_access_files                          -0.021358                0.026704   \n",
      "num_outbound_cmds                               NaN                     NaN   \n",
      "is_hot_login                                    NaN                     NaN   \n",
      "is_guest_login                            -0.041750                0.044641   \n",
      "count                                      0.539697               -0.546869   \n",
      "srv_count                                  0.681955               -0.673916   \n",
      "serror_rate                               -0.745745                0.719707   \n",
      "srv_serror_rate                           -0.734334                0.707753   \n",
      "rerror_rate                               -0.303126                0.308722   \n",
      "srv_rerror_rate                           -0.294328                0.300186   \n",
      "same_srv_rate                              0.873551               -0.844537   \n",
      "diff_srv_rate                             -0.868580                0.850911   \n",
      "srv_diff_host_rate                         0.068648               -0.050472   \n",
      "dst_host_count                            -0.070448                0.044338   \n",
      "dst_host_srv_count                         0.970072               -0.955178   \n",
      "dst_host_same_srv_rate                     1.000000               -0.980245   \n",
      "dst_host_diff_srv_rate                    -0.980245                1.000000   \n",
      "dst_host_same_src_port_rate                0.771158               -0.766402   \n",
      "dst_host_srv_diff_host_rate                0.107926               -0.088664   \n",
      "dst_host_serror_rate                      -0.742045                0.719275   \n",
      "dst_host_srv_serror_rate                  -0.725272                0.701149   \n",
      "dst_host_rerror_rate                      -0.278068                0.287477   \n",
      "dst_host_srv_rerror_rate                  -0.264384                0.271067   \n",
      "\n",
      "                             dst_host_same_src_port_rate  \\\n",
      "duration                                       -0.065202   \n",
      "src_bytes                                       0.815039   \n",
      "dst_bytes                                      -0.396195   \n",
      "land                                            0.004265   \n",
      "wrong_fragment                                 -0.015449   \n",
      "urgent                                         -0.001941   \n",
      "hot                                            -0.086998   \n",
      "num_failed_logins                              -0.006617   \n",
      "logged_in                                      -0.359506   \n",
      "num_compromised                                -0.078844   \n",
      "root_shell                                     -0.004618   \n",
      "su_attempted                                   -0.005016   \n",
      "num_root                                       -0.015968   \n",
      "num_file_creations                             -0.015019   \n",
      "num_shells                                     -0.003523   \n",
      "num_access_files                               -0.033287   \n",
      "num_outbound_cmds                                    NaN   \n",
      "is_hot_login                                         NaN   \n",
      "is_guest_login                                 -0.038091   \n",
      "count                                           0.776906   \n",
      "srv_count                                       0.812280   \n",
      "serror_rate                                    -0.650336   \n",
      "srv_serror_rate                                -0.646256   \n",
      "rerror_rate                                    -0.278465   \n",
      "srv_rerror_rate                                -0.282239   \n",
      "same_srv_rate                                   0.732841   \n",
      "diff_srv_rate                                  -0.727031   \n",
      "srv_diff_host_rate                             -0.222707   \n",
      "dst_host_count                                  0.189876   \n",
      "dst_host_srv_count                              0.769481   \n",
      "dst_host_same_srv_rate                          0.771158   \n",
      "dst_host_diff_srv_rate                         -0.766402   \n",
      "dst_host_same_src_port_rate                     1.000000   \n",
      "dst_host_srv_diff_host_rate                    -0.175310   \n",
      "dst_host_serror_rate                           -0.658737   \n",
      "dst_host_srv_serror_rate                       -0.652635   \n",
      "dst_host_rerror_rate                           -0.299273   \n",
      "dst_host_srv_rerror_rate                       -0.297100   \n",
      "\n",
      "                             dst_host_srv_diff_host_rate  \\\n",
      "duration                                        0.100692   \n",
      "src_bytes                                      -0.140231   \n",
      "dst_bytes                                       0.578557   \n",
      "land                                            0.016173   \n",
      "wrong_fragment                                  0.007306   \n",
      "urgent                                         -0.000975   \n",
      "hot                                            -0.014141   \n",
      "num_failed_logins                              -0.002585   \n",
      "logged_in                                       0.659078   \n",
      "num_compromised                                -0.020978   \n",
      "root_shell                                      0.008629   \n",
      "su_attempted                                    0.001050   \n",
      "num_root                                        0.061029   \n",
      "num_file_creations                              0.030588   \n",
      "num_shells                                      0.015876   \n",
      "num_access_files                                0.011765   \n",
      "num_outbound_cmds                                    NaN   \n",
      "is_hot_login                                         NaN   \n",
      "is_guest_login                                 -0.012580   \n",
      "count                                          -0.496554   \n",
      "srv_count                                      -0.391712   \n",
      "serror_rate                                    -0.153568   \n",
      "srv_serror_rate                                -0.148073   \n",
      "rerror_rate                                     0.073061   \n",
      "srv_rerror_rate                                 0.075178   \n",
      "same_srv_rate                                   0.179040   \n",
      "diff_srv_rate                                  -0.176930   \n",
      "srv_diff_host_rate                              0.433173   \n",
      "dst_host_count                                 -0.918894   \n",
      "dst_host_srv_count                              0.043668   \n",
      "dst_host_same_srv_rate                          0.107926   \n",
      "dst_host_diff_srv_rate                         -0.088664   \n",
      "dst_host_same_src_port_rate                    -0.175310   \n",
      "dst_host_srv_diff_host_rate                     1.000000   \n",
      "dst_host_serror_rate                           -0.118697   \n",
      "dst_host_srv_serror_rate                       -0.103715   \n",
      "dst_host_rerror_rate                            0.114971   \n",
      "dst_host_srv_rerror_rate                        0.120767   \n",
      "\n",
      "                             dst_host_serror_rate  dst_host_srv_serror_rate  \\\n",
      "duration                                -0.056753                 -0.057298   \n",
      "src_bytes                               -0.645919                 -0.641792   \n",
      "dst_bytes                               -0.167047                 -0.158378   \n",
      "land                                     0.013565                  0.012264   \n",
      "wrong_fragment                           0.010387                 -0.024117   \n",
      "urgent                                  -0.001379                 -0.001369   \n",
      "hot                                     -0.004706                 -0.010721   \n",
      "num_failed_logins                        0.014713                  0.014914   \n",
      "logged_in                               -0.143283                 -0.132474   \n",
      "num_compromised                         -0.005019                 -0.004504   \n",
      "root_shell                              -0.003501                 -0.003030   \n",
      "su_attempted                             0.001973                  0.002888   \n",
      "num_root                                -0.008457                 -0.007097   \n",
      "num_file_creations                      -0.002258                 -0.004295   \n",
      "num_shells                              -0.001592                 -0.002357   \n",
      "num_access_files                        -0.011195                 -0.011485   \n",
      "num_outbound_cmds                             NaN                       NaN   \n",
      "is_hot_login                                  NaN                       NaN   \n",
      "is_guest_login                          -0.001065                 -0.016887   \n",
      "count                                   -0.331571                 -0.335290   \n",
      "srv_count                               -0.449096                 -0.442823   \n",
      "serror_rate                              0.973947                  0.965663   \n",
      "srv_serror_rate                          0.967214                  0.970617   \n",
      "rerror_rate                             -0.094076                 -0.110646   \n",
      "srv_rerror_rate                         -0.096146                 -0.114341   \n",
      "same_srv_rate                           -0.830066                 -0.819335   \n",
      "diff_srv_rate                            0.807205                  0.795844   \n",
      "srv_diff_host_rate                      -0.097973                 -0.092661   \n",
      "dst_host_count                           0.123881                  0.113846   \n",
      "dst_host_srv_count                      -0.722607                 -0.708392   \n",
      "dst_host_same_srv_rate                  -0.742045                 -0.725272   \n",
      "dst_host_diff_srv_rate                   0.719275                  0.701149   \n",
      "dst_host_same_src_port_rate             -0.658737                 -0.652635   \n",
      "dst_host_srv_diff_host_rate             -0.118697                 -0.103715   \n",
      "dst_host_serror_rate                     1.000000                  0.968015   \n",
      "dst_host_srv_serror_rate                 0.968015                  1.000000   \n",
      "dst_host_rerror_rate                    -0.087531                 -0.111578   \n",
      "dst_host_srv_rerror_rate                -0.096899                 -0.110532   \n",
      "\n",
      "                             dst_host_rerror_rate  dst_host_srv_rerror_rate  \n",
      "duration                                -0.007759                 -0.013891  \n",
      "src_bytes                               -0.297338                 -0.300581  \n",
      "dst_bytes                               -0.003042                  0.001621  \n",
      "land                                     0.000386                 -0.001820  \n",
      "wrong_fragment                           0.046655                 -0.013666  \n",
      "urgent                                  -0.000788                 -0.000776  \n",
      "hot                                      0.199018                  0.189142  \n",
      "num_failed_logins                        0.032393                  0.032151  \n",
      "logged_in                                0.007236                  0.012979  \n",
      "num_compromised                          0.214115                  0.217859  \n",
      "root_shell                               0.002763                  0.002156  \n",
      "su_attempted                             0.003173                  0.001735  \n",
      "num_root                                -0.000422                 -0.005013  \n",
      "num_file_creations                       0.000623                 -0.001093  \n",
      "num_shells                              -0.000625                 -0.002024  \n",
      "num_access_files                        -0.004741                 -0.004555  \n",
      "num_outbound_cmds                             NaN                       NaN  \n",
      "is_hot_login                                  NaN                       NaN  \n",
      "is_guest_login                           0.025280                 -0.004289  \n",
      "count                                   -0.261194                 -0.256176  \n",
      "srv_count                               -0.313442                 -0.308132  \n",
      "serror_rate                             -0.103198                 -0.105434  \n",
      "srv_serror_rate                         -0.122630                 -0.124657  \n",
      "rerror_rate                              0.910225                  0.911623  \n",
      "srv_rerror_rate                          0.904591                  0.914904  \n",
      "same_srv_rate                           -0.282487                 -0.282914  \n",
      "diff_srv_rate                            0.299041                  0.298904  \n",
      "srv_diff_host_rate                       0.022584                  0.024722  \n",
      "dst_host_count                          -0.125142                 -0.125273  \n",
      "dst_host_srv_count                      -0.312040                 -0.300787  \n",
      "dst_host_same_srv_rate                  -0.278068                 -0.264384  \n",
      "dst_host_diff_srv_rate                   0.287477                  0.271067  \n",
      "dst_host_same_src_port_rate             -0.299273                 -0.297100  \n",
      "dst_host_srv_diff_host_rate              0.114971                  0.120767  \n",
      "dst_host_serror_rate                    -0.087531                 -0.096899  \n",
      "dst_host_srv_serror_rate                -0.111578                 -0.110532  \n",
      "dst_host_rerror_rate                     1.000000                  0.950963  \n",
      "dst_host_srv_rerror_rate                 0.950963                  1.000000"
     ]
    }
   ],
   "source": [
    "import pandas as pd\n",
    "pd.set_option('display.max_columns', 50)\n",
    "\n",
    "col_names = [\"duration\",\"src_bytes\",\"dst_bytes\",\"land\",\"wrong_fragment\",\n",
    "             \"urgent\",\"hot\",\"num_failed_logins\",\"logged_in\",\"num_compromised\",\n",
    "             \"root_shell\",\"su_attempted\",\"num_root\",\"num_file_creations\",\n",
    "             \"num_shells\",\"num_access_files\",\"num_outbound_cmds\",\n",
    "             \"is_hot_login\",\"is_guest_login\",\"count\",\"srv_count\",\"serror_rate\",\n",
    "             \"srv_serror_rate\",\"rerror_rate\",\"srv_rerror_rate\",\"same_srv_rate\",\n",
    "             \"diff_srv_rate\",\"srv_diff_host_rate\",\"dst_host_count\",\"dst_host_srv_count\",\n",
    "             \"dst_host_same_srv_rate\",\"dst_host_diff_srv_rate\",\"dst_host_same_src_port_rate\",\n",
    "             \"dst_host_srv_diff_host_rate\",\"dst_host_serror_rate\",\"dst_host_srv_serror_rate\",\n",
    "             \"dst_host_rerror_rate\",\"dst_host_srv_rerror_rate\"]\n",
    "\n",
    "corr_df = pd.DataFrame(correlation_matrix, index=col_names, columns=col_names)\n",
    "\n",
    "corr_df"
   ]
  },
  {
   "cell_type": "markdown",
   "metadata": {},
   "source": [
    "We have used a *Pandas* `DataFrame` here to render the correlation matrix in a more comprehensive way. Now we want those variables that are highly correlated. For that we do a bit of dataframe manipulation.  "
   ]
  },
  {
   "cell_type": "code",
   "execution_count": 22,
   "metadata": {},
   "outputs": [
    {
     "data": {
      "application/vnd.jupyter.widget-view+json": {
       "model_id": "",
       "version_major": 2,
       "version_minor": 0
      },
      "text/plain": [
       "FloatProgress(value=0.0, bar_style='info', description='Progress:', layout=Layout(height='25px', width='50%'),…"
      ]
     },
     "metadata": {},
     "output_type": "display_data"
    },
    {
     "name": "stdout",
     "output_type": "stream",
     "text": [
      "                             src_bytes  dst_bytes    hot  logged_in  \\\n",
      "src_bytes                        False      False  False      False   \n",
      "dst_bytes                        False      False  False       True   \n",
      "hot                              False      False  False      False   \n",
      "logged_in                        False       True  False      False   \n",
      "num_compromised                  False      False   True      False   \n",
      "count                            False      False  False      False   \n",
      "srv_count                        False      False  False      False   \n",
      "serror_rate                      False      False  False      False   \n",
      "srv_serror_rate                  False      False  False      False   \n",
      "rerror_rate                      False      False  False      False   \n",
      "srv_rerror_rate                  False      False  False      False   \n",
      "same_srv_rate                    False      False  False      False   \n",
      "diff_srv_rate                    False      False  False      False   \n",
      "dst_host_count                   False      False  False      False   \n",
      "dst_host_srv_count               False      False  False      False   \n",
      "dst_host_same_srv_rate           False      False  False      False   \n",
      "dst_host_diff_srv_rate           False      False  False      False   \n",
      "dst_host_same_src_port_rate       True      False  False      False   \n",
      "dst_host_srv_diff_host_rate      False      False  False      False   \n",
      "dst_host_serror_rate             False      False  False      False   \n",
      "dst_host_srv_serror_rate         False      False  False      False   \n",
      "dst_host_rerror_rate             False      False  False      False   \n",
      "dst_host_srv_rerror_rate         False      False  False      False   \n",
      "\n",
      "                             num_compromised  count  srv_count  serror_rate  \\\n",
      "src_bytes                              False  False      False        False   \n",
      "dst_bytes                              False  False      False        False   \n",
      "hot                                     True  False      False        False   \n",
      "logged_in                              False  False      False        False   \n",
      "num_compromised                        False  False      False        False   \n",
      "count                                  False  False       True        False   \n",
      "srv_count                              False   True      False        False   \n",
      "serror_rate                            False  False      False        False   \n",
      "srv_serror_rate                        False  False      False         True   \n",
      "rerror_rate                            False  False      False        False   \n",
      "srv_rerror_rate                        False  False      False        False   \n",
      "same_srv_rate                          False  False      False         True   \n",
      "diff_srv_rate                          False  False      False         True   \n",
      "dst_host_count                         False  False      False        False   \n",
      "dst_host_srv_count                     False  False      False        False   \n",
      "dst_host_same_srv_rate                 False  False      False        False   \n",
      "dst_host_diff_srv_rate                 False  False      False        False   \n",
      "dst_host_same_src_port_rate            False  False       True        False   \n",
      "dst_host_srv_diff_host_rate            False  False      False        False   \n",
      "dst_host_serror_rate                   False  False      False         True   \n",
      "dst_host_srv_serror_rate               False  False      False         True   \n",
      "dst_host_rerror_rate                   False  False      False        False   \n",
      "dst_host_srv_rerror_rate               False  False      False        False   \n",
      "\n",
      "                             srv_serror_rate  rerror_rate  srv_rerror_rate  \\\n",
      "src_bytes                              False        False            False   \n",
      "dst_bytes                              False        False            False   \n",
      "hot                                    False        False            False   \n",
      "logged_in                              False        False            False   \n",
      "num_compromised                        False        False            False   \n",
      "count                                  False        False            False   \n",
      "srv_count                              False        False            False   \n",
      "serror_rate                             True        False            False   \n",
      "srv_serror_rate                        False        False            False   \n",
      "rerror_rate                            False        False             True   \n",
      "srv_rerror_rate                        False         True            False   \n",
      "same_srv_rate                           True        False            False   \n",
      "diff_srv_rate                           True        False            False   \n",
      "dst_host_count                         False        False            False   \n",
      "dst_host_srv_count                     False        False            False   \n",
      "dst_host_same_srv_rate                 False        False            False   \n",
      "dst_host_diff_srv_rate                 False        False            False   \n",
      "dst_host_same_src_port_rate            False        False            False   \n",
      "dst_host_srv_diff_host_rate            False        False            False   \n",
      "dst_host_serror_rate                    True        False            False   \n",
      "dst_host_srv_serror_rate                True        False            False   \n",
      "dst_host_rerror_rate                   False         True             True   \n",
      "dst_host_srv_rerror_rate               False         True             True   \n",
      "\n",
      "                             same_srv_rate  diff_srv_rate  dst_host_count  \\\n",
      "src_bytes                            False          False           False   \n",
      "dst_bytes                            False          False           False   \n",
      "hot                                  False          False           False   \n",
      "logged_in                            False          False           False   \n",
      "num_compromised                      False          False           False   \n",
      "count                                False          False           False   \n",
      "srv_count                            False          False           False   \n",
      "serror_rate                           True           True           False   \n",
      "srv_serror_rate                       True           True           False   \n",
      "rerror_rate                          False          False           False   \n",
      "srv_rerror_rate                      False          False           False   \n",
      "same_srv_rate                        False           True           False   \n",
      "diff_srv_rate                         True          False           False   \n",
      "dst_host_count                       False          False           False   \n",
      "dst_host_srv_count                    True           True           False   \n",
      "dst_host_same_srv_rate                True           True           False   \n",
      "dst_host_diff_srv_rate                True           True           False   \n",
      "dst_host_same_src_port_rate          False          False           False   \n",
      "dst_host_srv_diff_host_rate          False          False            True   \n",
      "dst_host_serror_rate                  True           True           False   \n",
      "dst_host_srv_serror_rate              True          False           False   \n",
      "dst_host_rerror_rate                 False          False           False   \n",
      "dst_host_srv_rerror_rate             False          False           False   \n",
      "\n",
      "                             dst_host_srv_count  dst_host_same_srv_rate  \\\n",
      "src_bytes                                 False                   False   \n",
      "dst_bytes                                 False                   False   \n",
      "hot                                       False                   False   \n",
      "logged_in                                 False                   False   \n",
      "num_compromised                           False                   False   \n",
      "count                                     False                   False   \n",
      "srv_count                                 False                   False   \n",
      "serror_rate                               False                   False   \n",
      "srv_serror_rate                           False                   False   \n",
      "rerror_rate                               False                   False   \n",
      "srv_rerror_rate                           False                   False   \n",
      "same_srv_rate                              True                    True   \n",
      "diff_srv_rate                              True                    True   \n",
      "dst_host_count                            False                   False   \n",
      "dst_host_srv_count                        False                    True   \n",
      "dst_host_same_srv_rate                     True                   False   \n",
      "dst_host_diff_srv_rate                     True                    True   \n",
      "dst_host_same_src_port_rate               False                   False   \n",
      "dst_host_srv_diff_host_rate               False                   False   \n",
      "dst_host_serror_rate                      False                   False   \n",
      "dst_host_srv_serror_rate                  False                   False   \n",
      "dst_host_rerror_rate                      False                   False   \n",
      "dst_host_srv_rerror_rate                  False                   False   \n",
      "\n",
      "                             dst_host_diff_srv_rate  \\\n",
      "src_bytes                                     False   \n",
      "dst_bytes                                     False   \n",
      "hot                                           False   \n",
      "logged_in                                     False   \n",
      "num_compromised                               False   \n",
      "count                                         False   \n",
      "srv_count                                     False   \n",
      "serror_rate                                   False   \n",
      "srv_serror_rate                               False   \n",
      "rerror_rate                                   False   \n",
      "srv_rerror_rate                               False   \n",
      "same_srv_rate                                  True   \n",
      "diff_srv_rate                                  True   \n",
      "dst_host_count                                False   \n",
      "dst_host_srv_count                             True   \n",
      "dst_host_same_srv_rate                         True   \n",
      "dst_host_diff_srv_rate                        False   \n",
      "dst_host_same_src_port_rate                   False   \n",
      "dst_host_srv_diff_host_rate                   False   \n",
      "dst_host_serror_rate                          False   \n",
      "dst_host_srv_serror_rate                      False   \n",
      "dst_host_rerror_rate                          False   \n",
      "dst_host_srv_rerror_rate                      False   \n",
      "\n",
      "                             dst_host_same_src_port_rate  \\\n",
      "src_bytes                                           True   \n",
      "dst_bytes                                          False   \n",
      "hot                                                False   \n",
      "logged_in                                          False   \n",
      "num_compromised                                    False   \n",
      "count                                              False   \n",
      "srv_count                                           True   \n",
      "serror_rate                                        False   \n",
      "srv_serror_rate                                    False   \n",
      "rerror_rate                                        False   \n",
      "srv_rerror_rate                                    False   \n",
      "same_srv_rate                                      False   \n",
      "diff_srv_rate                                      False   \n",
      "dst_host_count                                     False   \n",
      "dst_host_srv_count                                 False   \n",
      "dst_host_same_srv_rate                             False   \n",
      "dst_host_diff_srv_rate                             False   \n",
      "dst_host_same_src_port_rate                        False   \n",
      "dst_host_srv_diff_host_rate                        False   \n",
      "dst_host_serror_rate                               False   \n",
      "dst_host_srv_serror_rate                           False   \n",
      "dst_host_rerror_rate                               False   \n",
      "dst_host_srv_rerror_rate                           False   \n",
      "\n",
      "                             dst_host_srv_diff_host_rate  \\\n",
      "src_bytes                                          False   \n",
      "dst_bytes                                          False   \n",
      "hot                                                False   \n",
      "logged_in                                          False   \n",
      "num_compromised                                    False   \n",
      "count                                              False   \n",
      "srv_count                                          False   \n",
      "serror_rate                                        False   \n",
      "srv_serror_rate                                    False   \n",
      "rerror_rate                                        False   \n",
      "srv_rerror_rate                                    False   \n",
      "same_srv_rate                                      False   \n",
      "diff_srv_rate                                      False   \n",
      "dst_host_count                                      True   \n",
      "dst_host_srv_count                                 False   \n",
      "dst_host_same_srv_rate                             False   \n",
      "dst_host_diff_srv_rate                             False   \n",
      "dst_host_same_src_port_rate                        False   \n",
      "dst_host_srv_diff_host_rate                        False   \n",
      "dst_host_serror_rate                               False   \n",
      "dst_host_srv_serror_rate                           False   \n",
      "dst_host_rerror_rate                               False   \n",
      "dst_host_srv_rerror_rate                           False   \n",
      "\n",
      "                             dst_host_serror_rate  dst_host_srv_serror_rate  \\\n",
      "src_bytes                                   False                     False   \n",
      "dst_bytes                                   False                     False   \n",
      "hot                                         False                     False   \n",
      "logged_in                                   False                     False   \n",
      "num_compromised                             False                     False   \n",
      "count                                       False                     False   \n",
      "srv_count                                   False                     False   \n",
      "serror_rate                                  True                      True   \n",
      "srv_serror_rate                              True                      True   \n",
      "rerror_rate                                 False                     False   \n",
      "srv_rerror_rate                             False                     False   \n",
      "same_srv_rate                                True                      True   \n",
      "diff_srv_rate                                True                     False   \n",
      "dst_host_count                              False                     False   \n",
      "dst_host_srv_count                          False                     False   \n",
      "dst_host_same_srv_rate                      False                     False   \n",
      "dst_host_diff_srv_rate                      False                     False   \n",
      "dst_host_same_src_port_rate                 False                     False   \n",
      "dst_host_srv_diff_host_rate                 False                     False   \n",
      "dst_host_serror_rate                        False                      True   \n",
      "dst_host_srv_serror_rate                     True                     False   \n",
      "dst_host_rerror_rate                        False                     False   \n",
      "dst_host_srv_rerror_rate                    False                     False   \n",
      "\n",
      "                             dst_host_rerror_rate  dst_host_srv_rerror_rate  \n",
      "src_bytes                                   False                     False  \n",
      "dst_bytes                                   False                     False  \n",
      "hot                                         False                     False  \n",
      "logged_in                                   False                     False  \n",
      "num_compromised                             False                     False  \n",
      "count                                       False                     False  \n",
      "srv_count                                   False                     False  \n",
      "serror_rate                                 False                     False  \n",
      "srv_serror_rate                             False                     False  \n",
      "rerror_rate                                  True                      True  \n",
      "srv_rerror_rate                              True                      True  \n",
      "same_srv_rate                               False                     False  \n",
      "diff_srv_rate                               False                     False  \n",
      "dst_host_count                              False                     False  \n",
      "dst_host_srv_count                          False                     False  \n",
      "dst_host_same_srv_rate                      False                     False  \n",
      "dst_host_diff_srv_rate                      False                     False  \n",
      "dst_host_same_src_port_rate                 False                     False  \n",
      "dst_host_srv_diff_host_rate                 False                     False  \n",
      "dst_host_serror_rate                        False                     False  \n",
      "dst_host_srv_serror_rate                    False                     False  \n",
      "dst_host_rerror_rate                        False                      True  \n",
      "dst_host_srv_rerror_rate                     True                     False"
     ]
    }
   ],
   "source": [
    "# get a boolean dataframe where true means that a pair of variables is highly correlated\n",
    "highly_correlated_df = (abs(corr_df) > .8) & (corr_df < 1.0)\n",
    "# get the names of the variables so we can use them to slice the dataframe\n",
    "correlated_vars_index = (highly_correlated_df==True).any()\n",
    "correlated_var_names = correlated_vars_index[correlated_vars_index==True].index\n",
    "# slice it\n",
    "highly_correlated_df.loc[correlated_var_names,correlated_var_names]"
   ]
  },
  {
   "cell_type": "markdown",
   "metadata": {},
   "source": [
    "### Conclusions and possible model selection hints"
   ]
  },
  {
   "cell_type": "markdown",
   "metadata": {},
   "source": [
    "The previous dataframe showed us which variables are highly correlated. We have kept just those variables with at least one strong correlation. We can use as we please, but a good way could be to do some model selection. That is, if we have a group of variables that are highly correlated, we can keep just one of them to represent the group under the assumption that they convey similar information as predictors. Reducing the number of variables will not improve our model accuracy, but it will make it easier to understand and also more efficient to compute.  "
   ]
  },
  {
   "cell_type": "markdown",
   "metadata": {},
   "source": [
    "For example, from the description of the [KDD Cup 99 task](http://kdd.ics.uci.edu/databases/kddcup99/task.html) we know that the variable `dst_host_same_src_port_rate` references the percentage of the last 100 connections to the same port, for the same destination host. In our correlation matrix (and auxiliar dataframes) we find that this one is highly and positively correlated to `src_bytes` and `srv_count`. The former is the number of bytes sent form source to destination. The later is the number of connections to the same service as the current connection in the past 2 seconds. We might decide not to include `dst_host_same_src_port_rate` in our model if we include the other two, as a way to reduce the number of variables and later one better interpret our models.  "
   ]
  },
  {
   "cell_type": "markdown",
   "metadata": {},
   "source": [
    "Later on, in those notebooks dedicated to build predictive models, we will make use of this information to build more interpretable models.   "
   ]
  },
  {
   "cell_type": "code",
   "execution_count": null,
   "metadata": {},
   "outputs": [],
   "source": []
  },
  {
   "cell_type": "code",
   "execution_count": null,
   "metadata": {},
   "outputs": [],
   "source": []
  }
 ],
 "metadata": {
  "kernelspec": {
   "display_name": "PySpark",
   "language": "",
   "name": "pysparkkernel"
  },
  "language_info": {
   "codemirror_mode": {
    "name": "python",
    "version": 3
   },
   "mimetype": "text/x-python",
   "name": "pyspark",
   "pygments_lexer": "python3"
  }
 },
 "nbformat": 4,
 "nbformat_minor": 1
}
