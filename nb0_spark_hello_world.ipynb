{
 "cells": [
  {
   "cell_type": "markdown",
   "metadata": {},
   "source": [
    "## Spark Cluster Overview\n",
    "\n",
    "Spark applications run as independent sets of processes on a cluster, coordinated by the SparkContext object in your main program (called the driver program)."
   ]
  },
  {
   "cell_type": "markdown",
   "metadata": {},
   "source": [
    "![Spark Cluster Overview](http://spark.apache.org/docs/2.0.0/img/cluster-overview.png)"
   ]
  },
  {
   "cell_type": "code",
   "execution_count": 1,
   "metadata": {},
   "outputs": [],
   "source": [
    "import socket"
   ]
  },
  {
   "cell_type": "markdown",
   "metadata": {},
   "source": [
    "This code runs on the 'driver' node"
   ]
  },
  {
   "cell_type": "code",
   "execution_count": 2,
   "metadata": {},
   "outputs": [
    {
     "name": "stdout",
     "output_type": "stream",
     "text": [
      "Hello World from yp-spark-dal09-env5-0033\n"
     ]
    }
   ],
   "source": [
    "print( \"Hello World from \" + socket.gethostname() )"
   ]
  },
  {
   "cell_type": "markdown",
   "metadata": {},
   "source": [
    "Create some data and distribute on the cluster 'executor' nodes"
   ]
  },
  {
   "cell_type": "code",
   "execution_count": 3,
   "metadata": {
    "collapsed": true
   },
   "outputs": [],
   "source": [
    "rdd = spark.sparkContext.parallelize( range(0, 100) )"
   ]
  },
  {
   "cell_type": "markdown",
   "metadata": {},
   "source": [
    "Run a function on the nodes and return the values back to the 'driver' node"
   ]
  },
  {
   "cell_type": "code",
   "execution_count": 4,
   "metadata": {},
   "outputs": [],
   "source": [
    "rdd = rdd.map( lambda x: \"Hello World from \" + socket.gethostname() ).collect()"
   ]
  },
  {
   "cell_type": "markdown",
   "metadata": {},
   "source": [
    "Print all the values"
   ]
  },
  {
   "cell_type": "code",
   "execution_count": 5,
   "metadata": {},
   "outputs": [
    {
     "name": "stdout",
     "output_type": "stream",
     "text": [
      "['Hello World from yp-spark-dal09-env5-0036', 'Hello World from yp-spark-dal09-env5-0036', 'Hello World from yp-spark-dal09-env5-0036', 'Hello World from yp-spark-dal09-env5-0036', 'Hello World from yp-spark-dal09-env5-0036', 'Hello World from yp-spark-dal09-env5-0036', 'Hello World from yp-spark-dal09-env5-0036', 'Hello World from yp-spark-dal09-env5-0036', 'Hello World from yp-spark-dal09-env5-0036', 'Hello World from yp-spark-dal09-env5-0036', 'Hello World from yp-spark-dal09-env5-0036', 'Hello World from yp-spark-dal09-env5-0036', 'Hello World from yp-spark-dal09-env5-0036', 'Hello World from yp-spark-dal09-env5-0036', 'Hello World from yp-spark-dal09-env5-0036', 'Hello World from yp-spark-dal09-env5-0036', 'Hello World from yp-spark-dal09-env5-0036', 'Hello World from yp-spark-dal09-env5-0036', 'Hello World from yp-spark-dal09-env5-0036', 'Hello World from yp-spark-dal09-env5-0036', 'Hello World from yp-spark-dal09-env5-0036', 'Hello World from yp-spark-dal09-env5-0036', 'Hello World from yp-spark-dal09-env5-0036', 'Hello World from yp-spark-dal09-env5-0036', 'Hello World from yp-spark-dal09-env5-0036', 'Hello World from yp-spark-dal09-env5-0036', 'Hello World from yp-spark-dal09-env5-0036', 'Hello World from yp-spark-dal09-env5-0036', 'Hello World from yp-spark-dal09-env5-0036', 'Hello World from yp-spark-dal09-env5-0036', 'Hello World from yp-spark-dal09-env5-0036', 'Hello World from yp-spark-dal09-env5-0036', 'Hello World from yp-spark-dal09-env5-0036', 'Hello World from yp-spark-dal09-env5-0036', 'Hello World from yp-spark-dal09-env5-0036', 'Hello World from yp-spark-dal09-env5-0036', 'Hello World from yp-spark-dal09-env5-0036', 'Hello World from yp-spark-dal09-env5-0036', 'Hello World from yp-spark-dal09-env5-0036', 'Hello World from yp-spark-dal09-env5-0036', 'Hello World from yp-spark-dal09-env5-0036', 'Hello World from yp-spark-dal09-env5-0036', 'Hello World from yp-spark-dal09-env5-0036', 'Hello World from yp-spark-dal09-env5-0036', 'Hello World from yp-spark-dal09-env5-0036', 'Hello World from yp-spark-dal09-env5-0036', 'Hello World from yp-spark-dal09-env5-0036', 'Hello World from yp-spark-dal09-env5-0036', 'Hello World from yp-spark-dal09-env5-0036', 'Hello World from yp-spark-dal09-env5-0049', 'Hello World from yp-spark-dal09-env5-0049', 'Hello World from yp-spark-dal09-env5-0049', 'Hello World from yp-spark-dal09-env5-0049', 'Hello World from yp-spark-dal09-env5-0049', 'Hello World from yp-spark-dal09-env5-0049', 'Hello World from yp-spark-dal09-env5-0049', 'Hello World from yp-spark-dal09-env5-0049', 'Hello World from yp-spark-dal09-env5-0049', 'Hello World from yp-spark-dal09-env5-0049', 'Hello World from yp-spark-dal09-env5-0049', 'Hello World from yp-spark-dal09-env5-0049', 'Hello World from yp-spark-dal09-env5-0049', 'Hello World from yp-spark-dal09-env5-0049', 'Hello World from yp-spark-dal09-env5-0049', 'Hello World from yp-spark-dal09-env5-0049', 'Hello World from yp-spark-dal09-env5-0049', 'Hello World from yp-spark-dal09-env5-0049', 'Hello World from yp-spark-dal09-env5-0049', 'Hello World from yp-spark-dal09-env5-0049', 'Hello World from yp-spark-dal09-env5-0049', 'Hello World from yp-spark-dal09-env5-0049', 'Hello World from yp-spark-dal09-env5-0049', 'Hello World from yp-spark-dal09-env5-0049', 'Hello World from yp-spark-dal09-env5-0049', 'Hello World from yp-spark-dal09-env5-0049', 'Hello World from yp-spark-dal09-env5-0049', 'Hello World from yp-spark-dal09-env5-0049', 'Hello World from yp-spark-dal09-env5-0049', 'Hello World from yp-spark-dal09-env5-0049', 'Hello World from yp-spark-dal09-env5-0049', 'Hello World from yp-spark-dal09-env5-0049', 'Hello World from yp-spark-dal09-env5-0049', 'Hello World from yp-spark-dal09-env5-0049', 'Hello World from yp-spark-dal09-env5-0049', 'Hello World from yp-spark-dal09-env5-0049', 'Hello World from yp-spark-dal09-env5-0049', 'Hello World from yp-spark-dal09-env5-0049', 'Hello World from yp-spark-dal09-env5-0049', 'Hello World from yp-spark-dal09-env5-0049', 'Hello World from yp-spark-dal09-env5-0049', 'Hello World from yp-spark-dal09-env5-0049', 'Hello World from yp-spark-dal09-env5-0049', 'Hello World from yp-spark-dal09-env5-0049', 'Hello World from yp-spark-dal09-env5-0049', 'Hello World from yp-spark-dal09-env5-0049', 'Hello World from yp-spark-dal09-env5-0049', 'Hello World from yp-spark-dal09-env5-0049', 'Hello World from yp-spark-dal09-env5-0049', 'Hello World from yp-spark-dal09-env5-0049']\n"
     ]
    }
   ],
   "source": [
    "print( rdd )"
   ]
  },
  {
   "cell_type": "markdown",
   "metadata": {},
   "source": [
    "Print out the unique values"
   ]
  },
  {
   "cell_type": "code",
   "execution_count": 7,
   "metadata": {},
   "outputs": [
    {
     "name": "stdout",
     "output_type": "stream",
     "text": [
      "set(['Hello World from yp-spark-dal09-env5-0036', 'Hello World from yp-spark-dal09-env5-0049'])\n"
     ]
    }
   ],
   "source": [
    "print( set(rdd) )"
   ]
  },
  {
   "cell_type": "code",
   "execution_count": null,
   "metadata": {
    "collapsed": true
   },
   "outputs": [],
   "source": []
  }
 ],
 "metadata": {
  "kernelspec": {
   "display_name": "Python 3",
   "language": "python",
   "name": "python3"
  },
  "language_info": {
   "codemirror_mode": {
    "name": "ipython",
    "version": 3
   },
   "file_extension": ".py",
   "mimetype": "text/x-python",
   "name": "python",
   "nbconvert_exporter": "python",
   "pygments_lexer": "ipython3",
   "version": "3.8.3"
  }
 },
 "nbformat": 4,
 "nbformat_minor": 1
}
